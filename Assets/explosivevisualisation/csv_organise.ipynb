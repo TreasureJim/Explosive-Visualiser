{
 "metadata": {
  "language_info": {
   "codemirror_mode": {
    "name": "ipython",
    "version": 3
   },
   "file_extension": ".py",
   "mimetype": "text/x-python",
   "name": "python",
   "nbconvert_exporter": "python",
   "pygments_lexer": "ipython3",
   "version": "3.7.1-final"
  },
  "orig_nbformat": 2,
  "kernelspec": {
   "name": "python3",
   "display_name": "Python 3.7.1 64-bit",
   "metadata": {
    "interpreter": {
     "hash": "28e41b0aec93716be3e29c5ec87ba57bbb951c37d93119bf29fe91556a42896d"
    }
   }
  }
 },
 "nbformat": 4,
 "nbformat_minor": 2,
 "cells": [
  {
   "cell_type": "code",
   "execution_count": 4,
   "metadata": {},
   "outputs": [],
   "source": [
    "import sys, csv\n",
    "\n",
    "csvFile = r'D:\\Programming\\!Work\\AugmentExpertSystems\\Explosive Visualiser\\Assets\\explosivevisualisation\\dataset.csv'\n",
    "\n",
    "data = csv.reader(open(csvFile), delimiter=',')\n",
    "next(data)\n",
    "\n",
    "zeroStartBlocks = list()\n",
    "movingBlocks = list()\n",
    "\n",
    "for row in data: \n",
    "    if(row[7] == '0'): \n",
    "        zeroStartBlocks.append(row)\n",
    "    else: \n",
    "        movingBlocks.append(row)"
   ]
  },
  {
   "cell_type": "code",
   "execution_count": 5,
   "metadata": {},
   "outputs": [],
   "source": [
    "movingBlocks = sorted(movingBlocks, key=lambda row: row[7])"
   ]
  },
  {
   "cell_type": "code",
   "execution_count": 6,
   "metadata": {},
   "outputs": [],
   "source": [
    "with open('zero_start_block.csv', mode='w', newline='') as zeroBlockFile: \n",
    "    blockWriter = csv.writer(zeroBlockFile)\n",
    "    blockWriter.writerows(zeroStartBlocks)\n",
    "\n",
    "with open('moving_block.csv', mode='w', newline='') as movingBlockFile: \n",
    "    blockWriter = csv.writer(movingBlockFile)\n",
    "    blockWriter.writerows(movingBlocks)"
   ]
  }
 ]
}